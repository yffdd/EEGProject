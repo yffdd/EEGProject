{
 "cells": [
  {
   "cell_type": "markdown",
   "id": "b722cf45",
   "metadata": {},
   "source": [
    "# SEED Dataset Preprocessing\n",
    "\n",
    "This Notebook can be used in order to preprocess the SEED Dataset in the following way: <br/>\n",
    "1. Collect all the Data form the mat files\n",
    "2. Remove the baseline from the SEEG Signals\n",
    "3. Filter the EEG Signals, either with a bandpass filter, a lowpass filter or a highpass filter\n",
    "4. Downsample the EEG Signals to a certain sampling rate\n",
    "5. Select only certain EEG Channels and rearange them in a given order\n",
    "6. Cut the EEG Signals into Windows of given length with given overlap\n",
    "7. Safe the generated Dataset\n",
    "8. Generate some decent plots to compare the old signal with the new signal"
   ]
  },
  {
   "cell_type": "markdown",
   "id": "5a22b6d9",
   "metadata": {},
   "source": [
    "## Description, Dataset Access and Citation"
   ]
  },
  {
   "cell_type": "markdown",
   "id": "4ea920d7",
   "metadata": {},
   "source": [
    "<b>For a full description and access to the Dataset please see:</b> <br/>\n",
    "url: http://bcmi.sjtu.edu.cn/home/seed/seed.html <br/>\n",
    "[1] Duan, R.-N.; Zhu, J.-Y.; Lu, B.-L.: Differential Entropy Feature for EEG-based Emo-tion Classification. In:6th International IEEE/EMBS Conference on Neural Engineering(NER), p. 81–84, IEEE, 2013 <br/>\n",
    "[2] Zheng, W.-L.; Lu, B.-L.: Investigating Critical Frequency Bands and Channels forEEG-based Emotion Recognition with Deep Neural Networks.IEEE Transactions on Autonomous Mental Development 7 (2015) 3, p. 162–175. <br/><br/>\n",
    "<b>If you find this code helpfull please cite:</b><br/>\n",
    "tbd"
   ]
  },
  {
   "cell_type": "markdown",
   "id": "03e15a66",
   "metadata": {},
   "source": [
    "## Hyperparameters"
   ]
  },
  {
   "cell_type": "code",
   "execution_count": null,
   "id": "602fabb1",
   "metadata": {},
   "outputs": [],
   "source": [
    "# data_dir ='../Datasets/raw/SEED_copy/raw/Preprocessed_EEG'\n",
    "# output_dir = '../Datasets/full_preprocessing/'\n",
    "data_dir ='E:/Databases/SEED/SEED/Preprocessed_EEG/'\n",
    "output_dir = 'E:/Databases/DataPre/SEED/full_preprocessing/'\n",
    "baseline_removal_window = 3\n",
    "cutoff_frequencies = [4,40]\n",
    "seconds_to_use = 185\n",
    "downsampling_rate = 128\n",
    "channels_to_use = ['AF3', 'F7', 'F3', 'FC5', 'T7', 'P7', 'O1', 'O2', 'P8', 'T8', 'FC6', 'F4', 'F8', 'AF4']\n",
    "window_size = 2\n",
    "window_overlap = 0\n",
    "save_plots_to_file = False"
   ]
  },
  {
   "cell_type": "code",
   "execution_count": null,
   "id": "9abc0aae",
   "metadata": {},
   "outputs": [],
   "source": [
    "import os\n",
    "os.makedirs(os.path.join(output_dir, \"figures\"), exist_ok=True)"
   ]
  },
  {
   "cell_type": "markdown",
   "id": "d203ec88",
   "metadata": {},
   "source": [
    "<b>data dir (String)</b>               - the path to the raw SEED Dataset, e.g. \"SEED/raw/Proproccessed_EEG/\" <br/>\n",
    "<b>output dir (String)</b>             - the path, where you want to save the preprocessed Dataset, e.g.                                                   \"myDatasets/SEED/ <br/>\n",
    "<b>baseline_removal_window (float)</b> - the timewindow, to calculate a baseline (average) from. This value gets                                             subtracted from the whole timeseries. If you don't want to use baseline_removal,                                   set it to 0 <br/>\n",
    "<b>cutoff_frequencies (touple)</b>     - the cutoff frequencies for the filter, if the first value ist set to None,                                         allowpass-filtering is used, if the second value is set to None, a highpass filt                                   ist used, if both values are set, a bandpass filter is used <br/>\n",
    "<b>seconds_to_use (int)</b> - The window in seconds to use from the timeseries, if for example seconds_to_use ist set to 45, only the last 45 seconds will be used. If you want to use the whole timeseries, set it to None <br/>\n",
    "<b>downsampling_rate (int)</b>         - the frequency, to which the eeg signals should be downsampled. If you don't want to downsample the signal, set it to 0 <br/>\n",
    "<b>channels_to_use (list)</b> a list of eeg channels you want to use, if you want to use all channels from the dataset, set it to None<br/>\n",
    "<b>window_size (int)</b>              - the lenght of the timewindow in seconds, the dataset should be cut into <br/>\n",
    "<b>window_overlap (int)</b>            - overlap of the windows in seconds, if set to 0, the windows don't overlap <br/>\n",
    "<b>save_plots_to_file (boolean)</b> - wheter or not you want to save the generated plots, if you choose False, the plots will be only shown in this notebook"
   ]
  },
  {
   "cell_type": "markdown",
   "id": "e956f5ab",
   "metadata": {},
   "source": [
    "## necessary imports"
   ]
  },
  {
   "cell_type": "code",
   "execution_count": null,
   "id": "3fdf6b76",
   "metadata": {},
   "outputs": [],
   "source": [
    "import numpy as np\n",
    "import scipy.io as sio\n",
    "from tqdm.notebook import tqdm, trange\n",
    "import os\n",
    "import warnings"
   ]
  },
  {
   "cell_type": "markdown",
   "id": "3f0f4310",
   "metadata": {},
   "source": [
    "## Data Collection"
   ]
  },
  {
   "cell_type": "code",
   "execution_count": null,
   "id": "84b033ea",
   "metadata": {},
   "outputs": [],
   "source": [
    "sampling_rate = 200\n",
    "channel_names = ['FP1', 'FPZ', 'FP2', 'AF3', 'AF4', 'F7', 'F5', 'F3', 'F1', 'FZ', 'F2', 'F4', 'F6', 'F8', 'FT7', 'FC5', 'FC3', 'FC1', 'FCZ', 'FC2', 'FC4', 'FC6', 'FT8', 'T7', 'C5', 'C3', 'C1', 'CZ', 'C2', 'C4', 'C6', 'T8', 'TP7', 'CP5', 'CP3', 'CP1', 'CPZ', 'CP2', 'CP4', 'CP6', 'TP8', 'P7', 'P5', 'P3', 'P1', 'PZ', 'P2', 'P4', 'P6', 'P8', 'PO7', 'PO5', 'PO3', 'POZ', 'PO4', 'PO6', 'PO8', 'CB1', 'O1', 'OZ', 'O2', 'CB2']"
   ]
  },
  {
   "cell_type": "code",
   "execution_count": null,
   "id": "0a2aa025",
   "metadata": {},
   "outputs": [],
   "source": [
    "from glob import glob\n",
    "\n",
    "# def get_session_id(subject_id,filename):\n",
    "#     #print(os.path.join(data_dir,subject_id,'_********.mat'))\n",
    "#     files = glob(os.path.join(data_dir,subject_id+'_********.mat'))\n",
    "#     return sorted(files).index(os.path.join(data_dir,filename))\n",
    "\n",
    "def get_session_id(subject_id,filename):\n",
    "    pattern = os.path.join(data_dir, subject_id + '_********.mat').replace('\\\\', '/')\n",
    "    files = [f.replace('\\\\', '/') for f in glob(pattern)]\n",
    "    session_id = sorted(files).index(os.path.join(data_dir, filename).replace('\\\\', '/'))\n",
    "    return session_id"
   ]
  },
  {
   "cell_type": "code",
   "execution_count": null,
   "id": "4ee1cc2c",
   "metadata": {},
   "outputs": [],
   "source": [
    "def get_keynames(dict_keys):\n",
    "    dict_keys = list(dict_keys)\n",
    "    trial_names = list()\n",
    "    for trial_name in dict_keys:\n",
    "        for i in range(1,16):\n",
    "            if '_eeg'+str(i) in trial_name:\n",
    "                trial_names.append(trial_name)\n",
    "    return trial_names"
   ]
  },
  {
   "cell_type": "code",
   "execution_count": null,
   "id": "e07f2b6c",
   "metadata": {
    "scrolled": true
   },
   "outputs": [],
   "source": [
    "label = sio.loadmat(data_dir + 'label.mat')['label'][0]\n",
    "print(label)\n",
    "print(len(label))"
   ]
  },
  {
   "cell_type": "code",
   "execution_count": null,
   "id": "c063ce7b",
   "metadata": {},
   "outputs": [],
   "source": [
    "X = np.zeros((675,62,53001))\n",
    "X_len = np.zeros(675,dtype=int)\n",
    "Y = np.zeros((675,))\n",
    "session = np.zeros((675,))\n",
    "subject = np.zeros((675,))\n",
    "trial = np.zeros((675,))\n",
    "for file in tqdm(os.listdir(data_dir)):\n",
    "    if file.endswith(\".mat\") and not file.endswith(\"label.mat\"):\n",
    "        subject_id = file.split('_')[0]\n",
    "        session_id = get_session_id(subject_id,file)\n",
    "        X_temp = sio.loadmat(os.path.join(data_dir,file))\n",
    "        X_temp_keys = get_keynames(X_temp.keys())\n",
    "        for trial_id in range(1,16):\n",
    "            experiment_id = session_id*15*15 + (int(subject_id)-1)*15 + trial_id-1\n",
    "            subject[experiment_id] = subject_id\n",
    "            session[experiment_id] = session_id\n",
    "            trial[experiment_id] = trial_id\n",
    "            Y[experiment_id] = label[trial_id-1]\n",
    "            X_temp_exp = X_temp[X_temp_keys[trial_id]]\n",
    "            X_len[experiment_id] = X_temp_exp.shape[1]\n",
    "            X[experiment_id,:,:X_temp_exp.shape[1]] = X_temp_exp"
   ]
  },
  {
   "cell_type": "code",
   "execution_count": null,
   "id": "a4c0611b",
   "metadata": {},
   "outputs": [],
   "source": [
    "print(\"Shape of the Time Series Array X: \" + str(X.shape))\n",
    "print(\"Unique Label Y Indices: \" + str(np.unique(Y)))\n",
    "print(\"Unique Session Indices: \" + str(np.unique(session)))\n",
    "print(\"Unique Subject Indices: \" + str(np.unique(subject)))\n",
    "print(\"Unique Trial Indices: \" + str(np.unique(trial)))\n",
    "print(\"Minimum length of Timeseries: \" + str(min(X_len)))\n",
    "print(\"Maximum length of Timeseries: \" + str(max(X_len)))"
   ]
  },
  {
   "cell_type": "code",
   "execution_count": null,
   "id": "16587d51",
   "metadata": {},
   "outputs": [],
   "source": [
    "# X_raw is later used for plotting, if you don't want to see the plots, you can uncomment this line\n",
    "X_raw = X.copy()"
   ]
  },
  {
   "cell_type": "markdown",
   "id": "536d324d",
   "metadata": {},
   "source": [
    "## Baseline-Removal"
   ]
  },
  {
   "cell_type": "code",
   "execution_count": null,
   "id": "00817af0",
   "metadata": {},
   "outputs": [],
   "source": [
    "if not(baseline_removal_window==0):\n",
    "    baseline_datapoints = baseline_removal_window * sampling_rate\n",
    "    baseline = X[:,:,:baseline_datapoints].sum(2) / baseline_datapoints\n",
    "    for timestep in trange(X.shape[2]):\n",
    "        X[:,:,timestep] = X[:,:,timestep] - baseline"
   ]
  },
  {
   "cell_type": "markdown",
   "id": "61d3c8fc",
   "metadata": {},
   "source": [
    "## Filtering (Bandpass or Highpass or Lowpass)"
   ]
  },
  {
   "cell_type": "code",
   "execution_count": null,
   "id": "c663eb70",
   "metadata": {},
   "outputs": [],
   "source": [
    "from scipy.signal import butter, sosfilt, sosfreqz\n",
    "\n",
    "def butter_bandpass(lowcut, highcut, fs, btype='band', order=5):\n",
    "        nyq = 0.5 * fs\n",
    "        if btype == 'bandpass':\n",
    "            low = lowcut / nyq\n",
    "            high = highcut / nyq\n",
    "            sos = butter(order, [low, high], analog=False, btype='bandpass', output='sos')\n",
    "        elif btype == 'highpass':\n",
    "            low = lowcut / nyq\n",
    "            sos = butter(order, low, analog=False, btype='highpass', output='sos')\n",
    "        elif btype == 'lowpass':\n",
    "            high = highcut / nyq\n",
    "            sos = butter(order, high, analog=False, btype='lowpass', output='sos')\n",
    "        return sos\n",
    "\n",
    "def butter_bandpass_filter(X, lowcut, highcut, fs, btype='bandpass', order=5):\n",
    "        sos = butter_bandpass(lowcut, highcut, fs, btype=btype, order=order)\n",
    "        X = sosfilt(sos, X)\n",
    "        return X"
   ]
  },
  {
   "cell_type": "code",
   "execution_count": null,
   "id": "4c03c08c",
   "metadata": {},
   "outputs": [],
   "source": [
    "if not(cutoff_frequencies[0] == None):\n",
    "    if not(cutoff_frequencies[1] == None):\n",
    "        btype='bandpass'\n",
    "    else:\n",
    "        btype='highpass'\n",
    "elif not (cutoff_frequencies[1] == None):\n",
    "        btype='lowpass'\n",
    "\n",
    "for experiment_id in trange(X.shape[0]):\n",
    "    for channel_id in range(X.shape[1]):\n",
    "        X[experiment_id, channel_id, :] = butter_bandpass_filter(\n",
    "                                                        X[experiment_id, channel_id, :],\n",
    "                                                        cutoff_frequencies[0],\n",
    "                                                        cutoff_frequencies[1],\n",
    "                                                        sampling_rate,\n",
    "                                                        btype=btype,\n",
    "                                                        order=5)"
   ]
  },
  {
   "cell_type": "markdown",
   "id": "1be571da",
   "metadata": {},
   "source": [
    "## Use only the last n seconds of the timeseries\n",
    "(As determined with the hyperparameter seconds_to_use)"
   ]
  },
  {
   "cell_type": "code",
   "execution_count": null,
   "id": "e0e8fdee",
   "metadata": {},
   "outputs": [],
   "source": [
    "if not(seconds_to_use == None):\n",
    "    num_sample_points_to_use = seconds_to_use * sampling_rate\n",
    "    X_selected = np.zeros((X.shape[0], X.shape[1], num_sample_points_to_use))\n",
    "    for exp_id in trange(len(X_len)):\n",
    "        X_selected[exp_id,:,:] = X[exp_id,:,X_len[exp_id]-num_sample_points_to_use:X_len[exp_id]]\n",
    "    X = X_selected"
   ]
  },
  {
   "cell_type": "markdown",
   "id": "ad438534",
   "metadata": {},
   "source": [
    "## Downsampling"
   ]
  },
  {
   "cell_type": "code",
   "execution_count": null,
   "id": "db268c46",
   "metadata": {},
   "outputs": [],
   "source": [
    "from scipy.signal import resample"
   ]
  },
  {
   "cell_type": "code",
   "execution_count": null,
   "id": "d66d877e",
   "metadata": {},
   "outputs": [],
   "source": [
    "if not(downsampling_rate == 0) and not(downsampling_rate == sampling_rate):\n",
    "    new_length = int(X.shape[2] / sampling_rate * downsampling_rate)\n",
    "    X_downsampled = np.zeros((X.shape[0], X.shape[1], new_length))\n",
    "    for experiment_id in trange(X.shape[0]):\n",
    "        for channel_id in range(X.shape[1]):\n",
    "            X_downsampled[experiment_id, channel_id, :] = resample(X[experiment_id, channel_id, :], new_length)\n",
    "    X = X_downsampled"
   ]
  },
  {
   "cell_type": "markdown",
   "id": "dda6e194",
   "metadata": {},
   "source": [
    "## Select certain channels"
   ]
  },
  {
   "cell_type": "code",
   "execution_count": null,
   "id": "0d49adb1",
   "metadata": {},
   "outputs": [],
   "source": [
    "if channels_to_use == None:\n",
    "    channels_to_use = channel_names"
   ]
  },
  {
   "cell_type": "code",
   "execution_count": null,
   "id": "e22f55ae",
   "metadata": {},
   "outputs": [],
   "source": [
    "channel_index_list = list()\n",
    "for i in range(len(channels_to_use)):\n",
    "    if channels_to_use[i] in channel_names:\n",
    "        channel_index_list.append(channel_names.index(channels_to_use[i]))\n",
    "    else:\n",
    "        warnings.warn(' Channel ' + channels_to_use[i] +' could not be found in the list of actual channels')"
   ]
  },
  {
   "cell_type": "code",
   "execution_count": null,
   "id": "4749dac8",
   "metadata": {},
   "outputs": [],
   "source": [
    "X_selected_channels = np.zeros((X.shape[0], len(channels_to_use), X.shape[2]))\n",
    "for channel in trange(len(channel_index_list)):\n",
    "    X_selected_channels[:,channel,:] = X[:,channel_index_list[channel],:]\n",
    "X = X_selected_channels"
   ]
  },
  {
   "cell_type": "markdown",
   "id": "4a03a102",
   "metadata": {},
   "source": [
    "## Cut into windows"
   ]
  },
  {
   "cell_type": "code",
   "execution_count": null,
   "id": "10c228a0",
   "metadata": {},
   "outputs": [],
   "source": [
    "window_size = 2\n",
    "window_overlap = 0"
   ]
  },
  {
   "cell_type": "code",
   "execution_count": null,
   "id": "7ca8f4da",
   "metadata": {
    "scrolled": true
   },
   "outputs": [],
   "source": [
    "num_points_per_window = window_size * downsampling_rate\n",
    "num_points_overlap = window_overlap * downsampling_rate\n",
    "stride = num_points_per_window - num_points_overlap\n",
    "start_index = [0]\n",
    "end_index = [num_points_per_window]\n",
    "num_windows_per_exp = 1\n",
    "while(end_index[-1]+stride < X.shape[2]):\n",
    "    num_windows_per_exp = num_windows_per_exp + 1\n",
    "    start_index.append(start_index[-1] + stride)\n",
    "    end_index.append(end_index[-1] + stride)\n",
    "X_cut = np.zeros((num_windows_per_exp*X.shape[0],X.shape[1], num_points_per_window))\n",
    "Y_cut = np.zeros(num_windows_per_exp*X.shape[0],)\n",
    "session_cut = np.zeros(num_windows_per_exp*X.shape[0],)\n",
    "subject_cut = np.zeros(num_windows_per_exp*X.shape[0],)\n",
    "trial_cut = np.zeros(num_windows_per_exp*X.shape[0],)\n",
    "for exp_id in trange(X.shape[0]):\n",
    "    for window_id in range(len(start_index)):\n",
    "        X_cut[exp_id*num_windows_per_exp+window_id,:,:] = X[exp_id,:,start_index[window_id]:end_index[window_id]]\n",
    "        Y_cut[exp_id*num_windows_per_exp+window_id] = Y[exp_id]\n",
    "        session_cut[exp_id*num_windows_per_exp+window_id] = session[exp_id]\n",
    "        subject_cut[exp_id*num_windows_per_exp+window_id] = subject[exp_id]\n",
    "        trial_cut[exp_id*num_windows_per_exp+window_id] = trial[exp_id]\n",
    "X = X_cut\n",
    "Y = Y_cut\n",
    "session = session_cut\n",
    "subject = subject_cut\n",
    "trial = trial_cut"
   ]
  },
  {
   "cell_type": "markdown",
   "id": "51bd2540",
   "metadata": {},
   "source": [
    "## Safe Dataset"
   ]
  },
  {
   "cell_type": "markdown",
   "id": "8928b1d7",
   "metadata": {},
   "source": [
    "Please note: This step can take up to several minutes"
   ]
  },
  {
   "cell_type": "code",
   "execution_count": null,
   "id": "88eb3bd9",
   "metadata": {},
   "outputs": [],
   "source": [
    "np.savez_compressed(\n",
    "                    output_dir +'/SEED.npz',\n",
    "                    X=X,\n",
    "                    Y=Y,\n",
    "                    session = session,\n",
    "                    subject = subject,\n",
    "                    trial = trial,\n",
    "                    downsampling_rate = downsampling_rate,\n",
    "                    channel_names = channels_to_use,\n",
    "                    window_size=window_size,\n",
    "                    window_overlap = window_overlap,\n",
    "                    cutoff_frequencies = cutoff_frequencies,\n",
    "                    baseline_removal_window = baseline_removal_window,\n",
    "                    seconds_to_use = seconds_to_use\n",
    "                    )\n",
    "print('Saved File')"
   ]
  },
  {
   "cell_type": "markdown",
   "id": "0cca9d98",
   "metadata": {},
   "source": [
    "## Plots"
   ]
  },
  {
   "cell_type": "code",
   "execution_count": null,
   "id": "03467622",
   "metadata": {},
   "outputs": [],
   "source": [
    "def perform_FFT(X, sampling_rate):\n",
    "    n = len(X) # length of the signal\n",
    "    k = np.arange(n)\n",
    "    T = n/sampling_rate\n",
    "    frq = k/T # two sides frequency range\n",
    "    frq = frq[:len(frq)//2] # one side frequency range\n",
    "\n",
    "    X_FT = np.fft.fft(X)/n # dft and normalization\n",
    "    X_FT = X_FT[:n//2]\n",
    "    return X_FT, frq"
   ]
  },
  {
   "cell_type": "code",
   "execution_count": null,
   "id": "f1a144f5",
   "metadata": {},
   "outputs": [],
   "source": [
    "channel_id_to_plot = 0"
   ]
  },
  {
   "cell_type": "code",
   "execution_count": null,
   "id": "60ffe781",
   "metadata": {},
   "outputs": [],
   "source": [
    "raw_ts = X_raw[0,channel_names.index(channels_to_use[channel_id_to_plot]),X_raw.shape[2]-(seconds_to_use*sampling_rate):X_raw.shape[2]-(seconds_to_use*sampling_rate) + window_size*sampling_rate]\n",
    "raw_ts = X_raw[0,channel_names.index(channels_to_use[channel_id_to_plot]),0:sampling_rate*window_size]\n",
    "preprocessed_ts = X[0,channel_id_to_plot,:]"
   ]
  },
  {
   "cell_type": "code",
   "execution_count": null,
   "id": "accaaec7",
   "metadata": {},
   "outputs": [],
   "source": [
    "import matplotlib.pyplot as plt"
   ]
  },
  {
   "cell_type": "code",
   "execution_count": null,
   "id": "2d383760",
   "metadata": {
    "scrolled": true
   },
   "outputs": [],
   "source": [
    "plt.plot(np.arange(0,sampling_rate*window_size),raw_ts, label=\"Raw Signal\")\n",
    "plt.plot(np.arange(0,downsampling_rate*window_size)/downsampling_rate*sampling_rate,preprocessed_ts, label=\"Preprocessed Signal\")\n",
    "plt.title(\"Comparison of an Exemplary Time Series\")\n",
    "plt.xticks([0,sampling_rate,2*sampling_rate],[0,1,2])\n",
    "plt.xlabel(\"Time t [s]\")\n",
    "plt.ylabel(\"Voltage U [mV]\")\n",
    "plt.legend()\n",
    "if save_plots_to_file:\n",
    "    plt.savefig(output_dir+'figures/SEED_Timespace.png', facecolor=\"white\")\n",
    "else:\n",
    "    plt.show()"
   ]
  },
  {
   "cell_type": "code",
   "execution_count": null,
   "id": "964961c8",
   "metadata": {},
   "outputs": [],
   "source": [
    "raw_fs, raw_frq = perform_FFT(raw_ts, sampling_rate)\n",
    "preprocessed_fs, preprocessed_frq = perform_FFT(preprocessed_ts, downsampling_rate)"
   ]
  },
  {
   "cell_type": "code",
   "execution_count": null,
   "id": "9deb5f22",
   "metadata": {},
   "outputs": [],
   "source": [
    "plt.plot(raw_frq, abs(raw_fs), label=\"Raw Signal\")\n",
    "plt.plot(preprocessed_frq, abs(preprocessed_fs), label=\"Preprocessed Signal\")\n",
    "plt.title(\"Comparison of an Exemplary Spectrum\")\n",
    "plt.xlabel(\"Frequency f [Hz]\")\n",
    "plt.ylabel(\"Amplitude |X(f)|\")\n",
    "plt.legend()\n",
    "if save_plots_to_file:\n",
    "    plt.savefig(output_dir+'figures/SEED_Frequencyspace.png', facecolor=\"white\")\n",
    "else:\n",
    "    plt.show()"
   ]
  },
  {
   "cell_type": "code",
   "execution_count": null,
   "id": "8f59760c",
   "metadata": {},
   "outputs": [],
   "source": []
  }
 ],
 "metadata": {
  "kernelspec": {
   "display_name": "Python 3",
   "language": "python",
   "name": "python3"
  },
  "language_info": {
   "codemirror_mode": {
    "name": "ipython",
    "version": 3
   },
   "file_extension": ".py",
   "mimetype": "text/x-python",
   "name": "python",
   "nbconvert_exporter": "python",
   "pygments_lexer": "ipython3",
   "version": "3.8.19"
  }
 },
 "nbformat": 4,
 "nbformat_minor": 5
}
