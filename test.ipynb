{
 "cells": [
  {
   "cell_type": "markdown",
   "metadata": {},
   "source": [
    "SEED: (Label) 0: sad, 1: neutral, 2: happy"
   ]
  },
  {
   "cell_type": "code",
   "execution_count": null,
   "metadata": {},
   "outputs": [],
   "source": [
    "from torcheeg.datasets import DEAPDataset\n",
    "from torcheeg import transforms\n",
    "from torcheeg.datasets.constants import DEAP_CHANNEL_LOCATION_DICT\n",
    "import numpy as np\n",
    "import torch\n",
    "\n",
    "root_path='E:/Databases/RawData/DEAP/data_preprocessed_python'\n",
    "out_path='E:/Databases/OutData/DEAP/torcheeg'"
   ]
  },
  {
   "cell_type": "code",
   "execution_count": null,
   "metadata": {},
   "outputs": [],
   "source": [
    "dataset = DEAPDataset(root_path=root_path,\n",
    "                        offline_transform=transforms.Compose([\n",
    "                            transforms.BandDifferentialEntropy(),\n",
    "                            transforms.ToGrid(DEAP_CHANNEL_LOCATION_DICT)\n",
    "                        ]),\n",
    "                        online_transform=transforms.ToTensor(),\n",
    "                        label_transform=transforms.Compose([\n",
    "                            transforms.Select('valence'),\n",
    "                            transforms.Binary(5.0),\n",
    "                        ]))"
   ]
  },
  {
   "cell_type": "code",
   "execution_count": null,
   "metadata": {},
   "outputs": [],
   "source": [
    "# 将dataset转换为NumPy数组\n",
    "data_list = []\n",
    "label_list = []\n",
    "\n",
    "for i in range(len(dataset)):\n",
    "    sample = dataset[i]\n",
    "    data, label = sample[0], sample[1]\n",
    "    data_list.append(data.numpy())\n",
    "    label_list.append(label.numpy() if isinstance(label, torch.Tensor) else label)\n",
    "\n",
    "data_array = np.array(data_list)\n",
    "label_array = np.array(label_list)\n",
    "\n",
    "print(f'Data array shape: {data_array.shape}')\n",
    "print(f'Label array shape: {label_array.shape}')\n",
    "\n",
    "# 将dataset转换为字典\n",
    "data_dict = {'data': [], 'label': []}\n",
    "\n",
    "for i in range(len(dataset)):\n",
    "    sample = dataset[i]\n",
    "    data, label = sample[0], sample[1]\n",
    "    data_dict['data'].append(data.numpy())\n",
    "    data_dict['label'].append(label.numpy() if isinstance(label, torch.Tensor) else label)\n",
    "\n",
    "data_dict['data'] = np.array(data_dict['data'])\n",
    "data_dict['label'] = np.array(data_dict['label'])\n",
    "\n",
    "print(f'Data shape in dictionary: {data_dict[\"data\"].shape}')\n",
    "print(f'Label shape in dictionary: {data_dict[\"label\"].shape}')"
   ]
  },
  {
   "cell_type": "code",
   "execution_count": null,
   "metadata": {},
   "outputs": [],
   "source": [
    "# 假设你的数据和标签数组如下\n",
    "data_array = np.array(data_list)\n",
    "label_array = np.array(label_list)\n",
    "\n",
    "# 保存数据和标签到本地的.npy文件\n",
    "np.save('E:/Databases/OutData/DEAP/torcheeg/data.npy', data_array)\n",
    "np.save('E:/Databases/OutData/DEAP/torcheeg/labels.npy', label_array)\n",
    "\n",
    "print('Data and labels saved as .npy files.')"
   ]
  },
  {
   "cell_type": "code",
   "execution_count": null,
   "metadata": {},
   "outputs": [],
   "source": [
    "X = np.load('E:/Databases/OutData/DEAP/torcheeg/data.npy')\n",
    "y = np.load('E:/Databases/OutData/DEAP/torcheeg/labels.npy')\n",
    "\n",
    "print(f'X shape: {X.shape}')\n",
    "print(f'y shape: {y.shape}')"
   ]
  },
  {
   "cell_type": "code",
   "execution_count": null,
   "metadata": {},
   "outputs": [],
   "source": [
    "from tools_test import build_preprocessed_eeg_dataset_CNN, RawEEGDataset, subject_independent_data_split\n",
    "import torch\n",
    "import torch.nn as nn\n",
    "from torch.utils.data import DataLoader\n",
    "import numpy as np\n",
    "# from torch.utils.tensorboard import SummaryWriter\n",
    "\n",
    "\n",
    "# 加载数据，整理成所需要的格式\n",
    "folder_path = \"E:/Databases/RawData/SEED/SEED/Preprocessed_EEG\"\n",
    "feature_vector_dict, label_dict = build_preprocessed_eeg_dataset_CNN(folder_path)"
   ]
  },
  {
   "cell_type": "code",
   "execution_count": null,
   "metadata": {},
   "outputs": [],
   "source": [
    "train_feature, train_label, test_feature, test_label = subject_independent_data_split(feature_vector_dict, label_dict,\n",
    "                                                                                      {'2', '6', '9'})"
   ]
  },
  {
   "cell_type": "code",
   "execution_count": null,
   "metadata": {},
   "outputs": [],
   "source": [
    "desire_shape = [1, 62, 200]\n",
    "train_data = RawEEGDataset(train_feature, train_label, desire_shape)\n",
    "test_data = RawEEGDataset(test_feature, test_label, desire_shape)"
   ]
  },
  {
   "cell_type": "code",
   "execution_count": null,
   "metadata": {},
   "outputs": [],
   "source": [
    "# train_feature_temp = train_feature[1:]\n",
    "train_feature_temp = train_feature\n",
    "train_feature_temp = np.array(train_feature_temp)\n",
    "print(f\"train_feature: {len(train_feature_temp)}\")\n",
    "print(f\"train_feature shape: {train_feature_temp.shape}\")\n"
   ]
  },
  {
   "cell_type": "code",
   "execution_count": null,
   "metadata": {},
   "outputs": [],
   "source": [
    "train_label_temp = train_label\n",
    "train_label_temp = np.array(train_label_temp)\n",
    "print(f\"train_label_temp shape: {train_label_temp.shape}\")"
   ]
  },
  {
   "cell_type": "code",
   "execution_count": null,
   "metadata": {},
   "outputs": [],
   "source": [
    "\n",
    "\n",
    "# 保存数据和标签到本地的.npy文件\n",
    "np.save('E:/Databases/OutData/SEED/SEED-Emotion-Recognition/X_train.npy', train_feature_temp)\n",
    "np.save('E:/Databases/OutData/SEED/SEED-Emotion-Recognition/y_train.npy', train_label_temp)\n",
    "\n",
    "print('Data and labels saved as .npy files.')"
   ]
  },
  {
   "cell_type": "code",
   "execution_count": null,
   "metadata": {},
   "outputs": [],
   "source": [
    "test_feature_temp = np.array(test_feature)\n",
    "print(f\"test_feature shape: {test_feature_temp.shape}\")\n",
    "test_label_temp = np.array(test_label)\n",
    "print(f\"test_label shape: {test_label_temp.shape}\")"
   ]
  },
  {
   "cell_type": "code",
   "execution_count": null,
   "metadata": {},
   "outputs": [],
   "source": [
    "# 保存数据和标签到本地的.npy文件\n",
    "np.save('E:/Databases/OutData/SEED/SEED-Emotion-Recognition/X_test.npy', test_feature_temp)\n",
    "np.save('E:/Databases/OutData/SEED/SEED-Emotion-Recognition/y_test.npy', test_label_temp)\n",
    "\n",
    "print('Data and labels saved as .npy files.')"
   ]
  },
  {
   "cell_type": "code",
   "execution_count": 10,
   "metadata": {},
   "outputs": [
    {
     "name": "stdout",
     "output_type": "stream",
     "text": [
      "/bigdisk/322xcq/Databases/OutData/DEAP/ACSE/deap.npz\n"
     ]
    }
   ],
   "source": [
    "import os\n",
    "\n",
    "# 设置系统的Dataset根目录\n",
    "sys_dataset_root_dir = 'E:/'  # xiales-pc Windows系统路径\n",
    "# sys_dataset_root_dir = '/bigdisk/322xcq/'  # 学校服务器系统路径\n",
    "databases_out_directory = os.path.join(sys_dataset_root_dir, \"Databases/OutData/DEAP/ACSE/\")\n",
    "dataset_name = \"deap\"\n",
    "filename = databases_out_directory + dataset_name + \".npz\"\n",
    "print(filename)"
   ]
  }
 ],
 "metadata": {
  "kernelspec": {
   "display_name": "pt231py38",
   "language": "python",
   "name": "python3"
  },
  "language_info": {
   "codemirror_mode": {
    "name": "ipython",
    "version": 3
   },
   "file_extension": ".py",
   "mimetype": "text/x-python",
   "name": "python",
   "nbconvert_exporter": "python",
   "pygments_lexer": "ipython3",
   "version": "3.8.19"
  }
 },
 "nbformat": 4,
 "nbformat_minor": 2
}
